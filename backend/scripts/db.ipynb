{
 "cells": [
  {
   "cell_type": "code",
   "execution_count": null,
   "metadata": {},
   "outputs": [],
   "source": [
    "import sqlite3\n",
    "\n",
    "conn = sqlite3.connect('purpose_pilot.db')\n",
    "cur = conn.cursor()\n",
    "\n",
    "# ユーザー\n",
    "cur.execute('''\n",
    "            CREATE TABLE User (\n",
    "            user_id TEXT NOT NULL, --ユーザーID\n",
    "            hash TEXT NOT NULL, --ハッシュ済みパスワード\n",
    "            created_at DATETIME NOT NULL, --作成日時\n",
    "            updated_at DATETIME NOT NULL, --更新日時\n",
    "            avater_image_url TEXT NOT NULL DEFAULT 0, --アバター画像URL\n",
    "            PRIMARY KEY (user_id)\n",
    "            )''')\n",
    "conn.commit()\n",
    "conn.close()"
   ]
  },
  {
   "cell_type": "code",
   "execution_count": null,
   "metadata": {},
   "outputs": [],
   "source": [
    "import sqlite3\n",
    "\n",
    "conn = sqlite3.connect('purpose_pilot.db')\n",
    "cur = conn.cursor()\n",
    "\n",
    "# 目標\n",
    "cur.execute('''\n",
    "            CREATE TABLE Purpose (\n",
    "            purpose_id INT AUTO INCREMENT NOT NULL, --目標ID\n",
    "            user_id TEXT NOT NULL, --ユーザーID\n",
    "            title TEXT NOT NULL, --目標タイトル\n",
    "            description TEXT NOT NULL, --目標内容\n",
    "            created_at DATETIME NOT NULL, --作成日時\n",
    "            due_at DATETIME, --期限\n",
    "            is_completed BOOL NOT NULL, --完了フラグ\n",
    "            completed_at DATETIME, --完了日時\n",
    "            PRIMARY KEY (purpose_id,user_id)\n",
    "            FOREIGN KEY (user_id) references User(user_id)\n",
    "            )''')\n",
    "conn.commit()\n",
    "conn.close()"
   ]
  },
  {
   "cell_type": "code",
   "execution_count": null,
   "metadata": {},
   "outputs": [],
   "source": [
    "import sqlite3\n",
    "\n",
    "conn = sqlite3.connect('purpose_pilot.db')\n",
    "cur = conn.cursor()\n",
    "\n",
    "# 行動\n",
    "cur.execute('''\n",
    "            CREATE TABLE Action (\n",
    "            action_id INT AUTO INCREMENT NOT NULL, --行動ID\n",
    "            user_id TEXT NOT NULL, --ユーザーID\n",
    "            purpose_id INT NOT NULL, --目標ID\n",
    "            action_detail TEXT NOT NULL, --行動内容\n",
    "            run_duration_sec INT NOT NULL, --実行時間\n",
    "            started_at DATETIME NOT NULL, --開始日時\n",
    "            finished_at DATETIME, --終了日時\n",
    "            PRIMARY KEY (action_id,user_id)\n",
    "            FOREIGN KEY (user_id) references Users(user_id),\n",
    "            FOREIGN KEY (purpose_id) references Purpose(purpose_id)\n",
    "            )''')\n",
    "conn.commit()\n",
    "conn.close()"
   ]
  },
  {
   "cell_type": "code",
   "execution_count": null,
   "metadata": {},
   "outputs": [],
   "source": [
    "import sqlite3\n",
    "\n",
    "conn = sqlite3.connect('purpose_pilot.db')\n",
    "cur = conn.cursor()\n",
    "\n",
    "# 振り返り\n",
    "cur.execute('''\n",
    "            CREATE TABLE Review (\n",
    "            review_id INT AUTO INCREMENt, --振り返りID\n",
    "            user_id TEXT, --ユーザーID\n",
    "            purpose_id INT, --目標ID\n",
    "            question_id INT, --質問ID\n",
    "            reviewed_at DATETIME NOT NULL, --振り返り日時\n",
    "            first_question_rating DOUBLE NOT NULL, --1問目の評価値\n",
    "            second_question_rating DOUBLE NOT NULL, --2問目の評価値\n",
    "            third_question_rating DOUBLE NOT NULL, --3問目の評価値\n",
    "            PRIMARY KEY (review_id)\n",
    "            FOREIGN KEY (user_id) references Users(user_id),\n",
    "            FOREIGN KEY (purpose_id) references Purpose(purpose_id)\n",
    "            )''')\n",
    "conn.commit()\n",
    "conn.close()"
   ]
  },
  {
   "cell_type": "code",
   "execution_count": null,
   "metadata": {},
   "outputs": [],
   "source": [
    "# 現状必要なし\n",
    "import sqlite3\n",
    "\n",
    "conn = sqlite3.connect('purpose_pilot.db')\n",
    "cur = conn.cursor()\n",
    "# 質問\n",
    "cur.execute('''\n",
    "            CREATE TABLE Question (\n",
    "            question_id INT, --質問ID\n",
    "            question NOT NULL, --質問内容\n",
    "            PRIMARY KEY (question_id)\n",
    "            )''')\n",
    "conn.commit()\n",
    "conn.close()"
   ]
  },
  {
   "cell_type": "code",
   "execution_count": null,
   "metadata": {},
   "outputs": [],
   "source": [
    "import sqlite3\n",
    "\n",
    "conn = sqlite3.connect('purpose_pilot.db')\n",
    "cur = conn.cursor()\n",
    "\n",
    "# セッション\n",
    "cur.execute('''\n",
    "            CREATE TABLE Session (\n",
    "            session_id TEXT, --セッションID\n",
    "            user_id TEXT NOT NULL, --ユーザーID\n",
    "            issued_at DATETIME NOT NULL, --発行日時\n",
    "            expired_at DATETIME NOT NULL, --有効期限\n",
    "            PRIMARY KEY (session_id)\n",
    "            FOREIGN KEY (user_id) references Users(user_id)\n",
    "            )''')\n",
    "conn.commit()\n",
    "conn.close()"
   ]
  }
 ],
 "metadata": {
  "kernelspec": {
   "display_name": "Python 3.12.0 ('.venv': venv)",
   "language": "python",
   "name": "python3"
  },
  "language_info": {
   "codemirror_mode": {
    "name": "ipython",
    "version": 3
   },
   "file_extension": ".py",
   "mimetype": "text/x-python",
   "name": "python",
   "nbconvert_exporter": "python",
   "pygments_lexer": "ipython3",
   "version": "3.12.0"
  },
  "orig_nbformat": 4,
  "vscode": {
   "interpreter": {
    "hash": "6a255e6586740d879e70a6005cd990fb2bdafe3729f5b5571bbae79be2a8f694"
   }
  }
 },
 "nbformat": 4,
 "nbformat_minor": 2
}
